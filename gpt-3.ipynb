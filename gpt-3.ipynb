{
 "cells": [
  {
   "cell_type": "code",
   "execution_count": null,
   "id": "9c01fb3f",
   "metadata": {},
   "outputs": [],
   "source": []
  },
  {
   "cell_type": "code",
   "execution_count": 1,
   "id": "18e8736b",
   "metadata": {},
   "outputs": [],
   "source": [
    "import openai\n",
    "openai.api_key =open(\"key.txt\",\"r\").read().strip(\"\\n\")#enter your own api key here"
   ]
  },
  {
   "cell_type": "code",
   "execution_count": null,
   "id": "0b73724c",
   "metadata": {},
   "outputs": [],
   "source": []
  },
  {
   "cell_type": "code",
   "execution_count": 2,
   "id": "bda28184",
   "metadata": {},
   "outputs": [],
   "source": [
    "#lets check the options we have to work for the model\n",
    "#first thing to know is the message sections role where we have 3 option for working as a \"user\", \" Assistant\",\"System\"\n",
    "#i have used user as it mimics the end user that is working with the assistant\n",
    "#sytem helps you inject some information in the middle but that will not be seen to the user\n",
    "#assistant here i can make agent say whatever i want to show to the user\n",
    "completion = openai.ChatCompletion.create(\n",
    "  model=\"gpt-3.5-turbo\",\n",
    "  messages=[{\"role\": \"user\", \"content\": \"what is my name?\"}]\n",
    ")"
   ]
  },
  {
   "cell_type": "code",
   "execution_count": 3,
   "id": "ab641506",
   "metadata": {},
   "outputs": [
    {
     "name": "stdout",
     "output_type": "stream",
     "text": [
      "{\n",
      "  \"choices\": [\n",
      "    {\n",
      "      \"finish_reason\": \"stop\",\n",
      "      \"index\": 0,\n",
      "      \"message\": {\n",
      "        \"content\": \"As an AI language model, I do not have access to personal information such as your name unless you provide it to me.\",\n",
      "        \"role\": \"assistant\"\n",
      "      }\n",
      "    }\n",
      "  ],\n",
      "  \"created\": 1680117930,\n",
      "  \"id\": \"chatcmpl-6zViEYWw2zVDvv49SrizkyglQumpG\",\n",
      "  \"model\": \"gpt-3.5-turbo-0301\",\n",
      "  \"object\": \"chat.completion\",\n",
      "  \"usage\": {\n",
      "    \"completion_tokens\": 25,\n",
      "    \"prompt_tokens\": 13,\n",
      "    \"total_tokens\": 38\n",
      "  }\n",
      "}\n"
     ]
    }
   ],
   "source": [
    "print(completion)"
   ]
  },
  {
   "cell_type": "code",
   "execution_count": null,
   "id": "c7cea62e",
   "metadata": {},
   "outputs": [],
   "source": []
  },
  {
   "cell_type": "code",
   "execution_count": null,
   "id": "93655fae",
   "metadata": {},
   "outputs": [],
   "source": []
  },
  {
   "cell_type": "code",
   "execution_count": 4,
   "id": "3a165232",
   "metadata": {},
   "outputs": [
    {
     "name": "stdout",
     "output_type": "stream",
     "text": [
      "As an AI language model, I do not have access to personal information such as your name unless you provide it to me.\n"
     ]
    }
   ],
   "source": [
    "#main aim here is to access the message content that is the information which i need to show to the user\n",
    "reply_content = completion.choices[0].message.content\n",
    "print(reply_content)"
   ]
  },
  {
   "cell_type": "code",
   "execution_count": 5,
   "id": "0073cdb2",
   "metadata": {},
   "outputs": [
    {
     "name": "stdout",
     "output_type": "stream",
     "text": [
      "> why is sea water salty?\n",
      "User's input was:  why is sea water salty?\n"
     ]
    }
   ],
   "source": [
    "#just accessing the user inputs and testing my model as well if its working\n",
    "message_history = []\n",
    "user_input = input(\"> \")\n",
    "print(\"User's input was: \", user_input)"
   ]
  },
  {
   "cell_type": "code",
   "execution_count": 6,
   "id": "850ba7f4",
   "metadata": {},
   "outputs": [],
   "source": [
    "#appending the user inputs so that i can continue my converstion with the assistant\n",
    "message_history.append({\"role\": \"user\", \"content\": f\"{user_input}\"})"
   ]
  },
  {
   "cell_type": "code",
   "execution_count": 7,
   "id": "927cc202",
   "metadata": {},
   "outputs": [
    {
     "name": "stdout",
     "output_type": "stream",
     "text": [
      "Sea water is salty because of the dissolved salts and minerals that come from the land and ocean floor. Over time, water from rain and rivers carries these minerals to the ocean where they accumulate and become concentrated. The most common salts found in seawater are sodium chloride (table salt), magnesium, and calcium. The amount of salt in seawater can vary depending on location and climate, but on average, seawater contains about 3.5% salt.\n"
     ]
    }
   ],
   "source": [
    "completion = openai.ChatCompletion.create(\n",
    "  model=\"gpt-3.5-turbo\",\n",
    "  messages=message_history\n",
    ")\n",
    "\n",
    "# Now we can print the response:\n",
    "reply_content = completion.choices[0].message.content\n",
    "print(reply_content)\n"
   ]
  },
  {
   "cell_type": "code",
   "execution_count": 8,
   "id": "a967d573",
   "metadata": {},
   "outputs": [],
   "source": [
    "#now as i need to add some more information i need to work as an assistant. this will help me add more details to reach my\n",
    "#goal\n",
    "message_history.append({\"role\": \"assistant\", \"content\": f\"{reply_content}\"})"
   ]
  },
  {
   "cell_type": "code",
   "execution_count": 9,
   "id": "d7d008bf",
   "metadata": {},
   "outputs": [
    {
     "name": "stdout",
     "output_type": "stream",
     "text": [
      "> why is it salty?\n",
      "User's input was:  why is it salty?\n",
      "\n",
      "As mentioned earlier, seawater is salty because it contains dissolved minerals and salts. These salts and minerals are carried by rivers and streams to the oceans and seas where they accumulate over time. \n",
      "\n",
      "The main salt in seawater is Sodium Chloride (NaCl) which is commonly known as table salt. Other salts such as magnesium, potassium, and calcium are also present, but in lower concentrations. \n",
      "\n",
      "Seawater's high salinity is maintained by the continuous supply of water and minerals from rivers, volcanic eruptions, and other natural processes. Although freshwater dilutes seawater to some extent, the rate of salt supply to the ocean is greater than the rate of dilution, leading to seawater's characteristic high salinity.\n"
     ]
    }
   ],
   "source": [
    "#check with new query\n",
    "user_input = input(\"> \")\n",
    "print(\"User's input was: \", user_input)\n",
    "print()\n",
    "message_history.append({\"role\": \"user\", \"content\": f\"{user_input}\"})\n",
    "\n",
    "completion = openai.ChatCompletion.create(\n",
    "    model=\"gpt-3.5-turbo\",\n",
    "    messages=message_history\n",
    ")\n",
    "\n",
    "reply_content = completion.choices[0].message.content\n",
    "print(reply_content)"
   ]
  },
  {
   "cell_type": "code",
   "execution_count": 10,
   "id": "0cee43d1",
   "metadata": {},
   "outputs": [
    {
     "name": "stdout",
     "output_type": "stream",
     "text": [
      "> what is the age of sun?\n",
      "User's input was:  what is the age of sun?\n",
      "The sun is estimated to be around 4.6 billion years old.\n",
      "\n",
      "> are you sure?\n",
      "User's input was:  are you sure?\n",
      "Yes, as an AI language model, I can confirm that the estimated age of the Sun is around 4.6 billion years. This is based on scientific evidence and calculations.\n",
      "\n"
     ]
    }
   ],
   "source": [
    "#lets combine and see a working chat bot\n",
    "message_history = []\n",
    "\n",
    "def chat(inp, role=\"user\"):\n",
    "    message_history.append({\"role\": role, \"content\": f\"{inp}\"})\n",
    "    completion = openai.ChatCompletion.create(\n",
    "        model=\"gpt-3.5-turbo\",\n",
    "        messages=message_history\n",
    "    )\n",
    "    reply_content = completion.choices[0].message.content\n",
    "    message_history.append({\"role\": \"assistant\", \"content\": f\"{reply_content}\"})\n",
    "    return reply_content\n",
    "\n",
    "for i in range(2):\n",
    "    user_input = input(\"> \")\n",
    "    print(\"User's input was: \", user_input )\n",
    "    print(chat(user_input))\n",
    "    print()"
   ]
  },
  {
   "cell_type": "code",
   "execution_count": 11,
   "id": "a5d0cf9b",
   "metadata": {},
   "outputs": [
    {
     "name": "stdout",
     "output_type": "stream",
     "text": [
      "a comedy story on\n"
     ]
    }
   ],
   "source": [
    "#some character and location selection\n",
    "import random\n",
    "\n",
    "mylist = [\"a story on\", \"An essay on\", \"a terrifying story on\", \"a romantic story on\", \"a comedy story on\"]\n",
    "location=[\"india\", \"USA\",\"UK\", \"France\", \"Building\",\"Park\", \"Cinema\"]\n",
    "person=[\"long person\", \"Short person\", \"Black person\",\"White person\",\"Brown person\",\"person with glasses\", \"person with umbrella\"]\n",
    "types=[\"action\",\"Romantic\",\"sensational\",\"adventure\"]\n",
    "\n",
    "choose= random.choice(mylist)\n",
    "print(choose)"
   ]
  },
  {
   "cell_type": "code",
   "execution_count": 12,
   "id": "7c0f5013",
   "metadata": {},
   "outputs": [
    {
     "name": "stdout",
     "output_type": "stream",
     "text": [
      "Choose an option:\n",
      "1. an unexpected visitor\n",
      "2. a time travel adventure.\n",
      "3. a haunted house\n",
      "4. Exit\n",
      "Enter your choice (1-4): 3\n",
      "a haunted house\n",
      "User's input was:  a story on a haunted house located inBuilding where a Black person meets and creats a scene of adventure\n",
      "Once upon a time, there was a haunted house located in an old building in the heart of the city. It was rumored that the house was cursed and no one had ever dared to enter it. But one day, a brave black man named James decided to explore the house and discover the truth.\n",
      "\n",
      "As James entered the house, he experienced an eerie sensation, and the hairs on his arms stood up. The house was dark and covered in cobwebs, making James's journey through it nearly impossible. As he went up the stairs, he heard strange noises and footsteps behind him. His heart raced as the fear took over, but he didn't give up on his quest.\n",
      "\n",
      "As he walked into one of the rooms, he encountered an apparition who appeared to be a young girl. The ghostly figure stood motionless and then vanished without a sound. James was now convinced that the house was indeed haunted, and he had to find a way out of it.\n",
      "\n",
      "Suddenly, he heard more sounds and quickly hid behind a bookshelf. The ghost appeared again, and James tried to communicate with her. To his surprise, she didn't seem threatening and instead helped him solve the mystery of the haunted house.\n",
      "\n",
      "Together they found a hidden room that contained treasures that were believed to have been cursed. James felt the need to get rid of them to break the curse of the house. And so, with the ghost's help, they performed the necessary ritual to break the curse.\n",
      "\n",
      "As the curse was broken, the haunting stopped, and James felt relieved to have solved the mystery. He thanked the ghostly girl for her help and left the house, knowing that the adventure he had been on was one he would never forget.\n",
      "\n"
     ]
    }
   ],
   "source": [
    "#just combile everythong to and make an amazing story everytime!!\n",
    "choose= random.choice(mylist)\n",
    "location=random.choice(location)\n",
    "person= random.choice(person)\n",
    "types=random.choice(types)\n",
    "while True:\n",
    "    print(\"Choose an option:\")\n",
    "    print(\"1. an unexpected visitor\")\n",
    "    print(\"2. a time travel adventure.\")\n",
    "    print(\"3. a haunted house\")\n",
    "    print(\"4. Exit\")\n",
    "    choice = input(\"Enter your choice (1-4): \")\n",
    "\n",
    "    if choice == \"1\":\n",
    "        print(\"an unexpected visitor\")\n",
    "        \n",
    "        user_input = choose+ \" an unexpected visitor \"+ \"located in \"+ location+ \" where a \"+ person+ \" meets and creats a scene of \"+ types\n",
    "        print(\"User's input was: \", user_input)\n",
    "        print(chat(user_input))\n",
    "        print()\n",
    "        break\n",
    "      \n",
    "\n",
    "    elif choice == \"2\":\n",
    "        print(\"a time travel adventure.\")\n",
    "        user_input = choose+ \" a time travel adventure \"+ \"located in \"+ location+ \" where a \"+ person+ \" meets and creats a scene of \"+ types\n",
    "        print(\"User's input was: \", user_input)\n",
    "        print(chat(user_input))\n",
    "        print()\n",
    "        break\n",
    "\n",
    "    elif choice == \"3\":\n",
    "        print(\"a haunted house\")\n",
    "        user_input = choose+ \" a haunted house \"+ \"located in \"+ location+ \" where a \"+ person+ \" meets and creats a scene of \"+ types\n",
    "        print(\"User's input was: \", user_input)\n",
    "        print(chat(user_input))\n",
    "        print()\n",
    "        break\n",
    "\n",
    "    elif choice == \"4\":\n",
    "        print(\"Exiting...\")\n",
    "        break\n",
    "\n",
    "    else:\n",
    "        print(\"Invalid choice. Please enter a number between 1 and 4.\")\n"
   ]
  },
  {
   "cell_type": "code",
   "execution_count": 13,
   "id": "bc1e85ed",
   "metadata": {},
   "outputs": [],
   "source": [
    "#its always a happy ending "
   ]
  }
 ],
 "metadata": {
  "kernelspec": {
   "display_name": "Python 3.9 (tensorflow)",
   "language": "python",
   "name": "tensorflow"
  },
  "language_info": {
   "codemirror_mode": {
    "name": "ipython",
    "version": 3
   },
   "file_extension": ".py",
   "mimetype": "text/x-python",
   "name": "python",
   "nbconvert_exporter": "python",
   "pygments_lexer": "ipython3",
   "version": "3.9.13"
  }
 },
 "nbformat": 4,
 "nbformat_minor": 5
}
